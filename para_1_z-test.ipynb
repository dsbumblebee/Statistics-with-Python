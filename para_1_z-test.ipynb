{
 "cells": [
  {
   "cell_type": "markdown",
   "metadata": {},
   "source": [
    "# 모수적 검정_Z검정"
   ]
  },
  {
   "cell_type": "markdown",
   "metadata": {},
   "source": [
    "### 목적 \n",
    "- 통계적 가설검정의 가장 기본으로 모수적 검정에서 Z검정을 파이썬 코드로 실습해보고자 한다. \n",
    "- Z검정은 모분산을 알아야하기 때문에, 실제 상황에서는 거의 활용되지 않는다고 할 수 있지만, t검정에 대한 이해를 돕기 위해 종종 선행학습으로 활용된다. "
   ]
  },
  {
   "cell_type": "markdown",
   "metadata": {},
   "source": [
    "## Contents\n",
    "- 1. 예상되는 문제\n",
    "- 2. 접근방법\n",
    "- 3. 예상문제 풀이"
   ]
  },
  {
   "cell_type": "markdown",
   "metadata": {},
   "source": [
    "## 1. 예상 문제\n",
    "- 모평균과 모분산(또는 모표준편차)이 주어진 상태에서, 표본을 주고 그것의 모평균이 표본의 평균과 일치 하는지 검정"
   ]
  },
  {
   "cell_type": "markdown",
   "metadata": {},
   "source": [
    "## 2. 접근방법\n",
    "- 1. 통계량\n",
    "    - 구해진 통계량이 90%, 95%, 99%에 대한 critical value보다 더 극단적이면 귀무가설을 기각한다. \n",
    "    - 95% 1.96\n",
    "    - 90% 1.645\n",
    "    - 99% 2.576\n",
    "- 2. p-value \n",
    "    - norm.cdf를 이용해서 극단치의 확율을 구한다. 유의수준 0.05에 대한 양측검정이라면 0.025보다 작은지 확인한다. 0.025보다 작다면, 귀무가설을 기각한다. \n",
    "- 3. 신뢰구간 \n",
    "    - norm.ppf를 이용해서 모평균의 해당신뢰수준에 해당하는 신뢰구간을 구한다. 제시된 모평균이 그 밖에 있다면, 귀무가설을 기각한다. "
   ]
  },
  {
   "cell_type": "markdown",
   "metadata": {},
   "source": [
    "## 3. 예상문제 풀이"
   ]
  },
  {
   "cell_type": "markdown",
   "metadata": {},
   "source": [
    "- 문제 : 학생들의 키의 평균이 71, 표준편차가 9라고 알려져 있다. 데이터에서 20명의 학생을 뽑아서 키를 측정한다. 그 결과를 가지고 모평균에 대한 가설을 세우고, 그것이 맞는지 검정하라."
   ]
  },
  {
   "cell_type": "markdown",
   "metadata": {},
   "source": [
    "- 가설설정 \n",
    "    - H0 : 표본의 평균은 알려진 모평균과 차이가 없다. \n",
    "    - H1 : 표본의 평균은 알려진 모평균과 차이가 있다. "
   ]
  },
  {
   "cell_type": "code",
   "execution_count": 16,
   "metadata": {},
   "outputs": [],
   "source": [
    "# library\n",
    "import pandas as pd\n",
    "import numpy as np\n",
    "import matplotlib.pyplot as plt\n",
    "from scipy.stats import norm"
   ]
  },
  {
   "cell_type": "code",
   "execution_count": 19,
   "metadata": {},
   "outputs": [],
   "source": [
    "# 학생들의 기초 정보 및 성적 들어있는 데이터\n",
    "data = pd.read_csv('students.csv')"
   ]
  },
  {
   "cell_type": "code",
   "execution_count": 20,
   "metadata": {},
   "outputs": [],
   "source": [
    "# 알려진 모평균, 모표준편차 \n",
    "mu = 71\n",
    "sigma = 9"
   ]
  },
  {
   "cell_type": "code",
   "execution_count": 21,
   "metadata": {},
   "outputs": [],
   "source": [
    "# random sampling\n",
    "# 20명를 랜덤하게 샘플링\n",
    "n = 20 \n",
    "np.random.seed(4)\n",
    "weight = data['weight'].sample(n)"
   ]
  },
  {
   "cell_type": "code",
   "execution_count": 22,
   "metadata": {},
   "outputs": [
    {
     "name": "stdout",
     "output_type": "stream",
     "text": [
      "75.80499999999999\n"
     ]
    }
   ],
   "source": [
    "# 표본의 편균 \n",
    "x_bar = weight.mean()\n",
    "print(x_bar)"
   ]
  },
  {
   "cell_type": "code",
   "execution_count": 23,
   "metadata": {},
   "outputs": [],
   "source": [
    "# 유의수준 \n",
    "alpha = 0.05"
   ]
  },
  {
   "cell_type": "code",
   "execution_count": 24,
   "metadata": {},
   "outputs": [
    {
     "name": "stdout",
     "output_type": "stream",
     "text": [
      "2.387623695974772\n"
     ]
    }
   ],
   "source": [
    "# 통계량 \n",
    "z = (x_bar - mu) / (sigma/np.sqrt(n))\n",
    "print(z)"
   ]
  },
  {
   "cell_type": "code",
   "execution_count": 26,
   "metadata": {},
   "outputs": [
    {
     "name": "stdout",
     "output_type": "stream",
     "text": [
      "0.008478847547225499\n"
     ]
    }
   ],
   "source": [
    "# p-value \n",
    "p_value = 1-norm.cdf(z)\n",
    "print(p_value)"
   ]
  },
  {
   "cell_type": "code",
   "execution_count": 33,
   "metadata": {},
   "outputs": [
    {
     "name": "stdout",
     "output_type": "stream",
     "text": [
      "모평균의 95% 신뢰구간은 71.86 부터 79.75 까지 이다.\n"
     ]
    }
   ],
   "source": [
    "# 신뢰구간 95% \n",
    "lower_bound = x_bar + norm.ppf(0.025)*sigma/np.sqrt(n)\n",
    "upper_bound = x_bar + norm.ppf(0.975)*sigma/np.sqrt(n)\n",
    "\n",
    "print(\"모평균의 95% 신뢰구간은 {0:.2f} 부터 {1:.2f} 까지 이다.\".format(lower_bound, upper_bound))"
   ]
  },
  {
   "cell_type": "markdown",
   "metadata": {},
   "source": [
    "### 결과 해석 \n",
    "#### 1. 통계량으로 해석 \n",
    "- 통계량으로 접근한 방법으로, 유의수준 0.05에 대한 critical value 1.96보다 크기 때문에, 표본의 평균은 알려진 모평균과 통계적으로 다르다고 해석할 수 있다.  \n",
    "\n",
    "#### 2. p-value로 해석 \n",
    "- p-value로 접근한 방법으로, 유의수준 0.05에 대한 양측검정으로 통계량에 해당하는 확율값이 0.0084로 0.025보다 작기 때문에, 표본의 평균은 알려진 모평균과 통계적으로 다르다고 해석할 수 있다.  \n",
    "\n",
    "#### 3. 신뢰구간으로 해석\n",
    "- 표본평균으로부터 계산한 모평균의 95% 신뢰구간은 71.86 부터 79.75이다. 알려진 모평균은 71이므로 표본평균의 신뢰구간 범위 밖에 있다. 따라서 표본의 평균은 알려진 모평균과 통계적으로 다르다고 해석할 수 있다. "
   ]
  }
 ],
 "metadata": {
  "kernelspec": {
   "display_name": "Python 3",
   "language": "python",
   "name": "python3"
  },
  "language_info": {
   "codemirror_mode": {
    "name": "ipython",
    "version": 3
   },
   "file_extension": ".py",
   "mimetype": "text/x-python",
   "name": "python",
   "nbconvert_exporter": "python",
   "pygments_lexer": "ipython3",
   "version": "3.8.3"
  }
 },
 "nbformat": 4,
 "nbformat_minor": 4
}

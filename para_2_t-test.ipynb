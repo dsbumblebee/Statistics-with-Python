{
 "cells": [
  {
   "cell_type": "markdown",
   "metadata": {},
   "source": [
    "# 모수적 검정_t검정"
   ]
  },
  {
   "cell_type": "markdown",
   "metadata": {},
   "source": [
    "## 목적\n",
    "- 통계적 가설검정 중 가장 많이 쓰이는 t검정을 파이썬 코드로 실습해보고자 한다. \n",
    "- 평균의 차이를 검정하는 z검정은 모분산을 알아야 하기 때문에, 실제로는 많이 쓰이지 못하고, 모분산을 모르는 상황 그리고 샘플이 30개 미만인 상황에서 t검정을 사용할 수 있다.\n",
    "- t검정의 목적 또한 표본의 평균의 차이가 있는지를 보기 위함이다. \n",
    "- 3가지 유형의 문제가 나올 수 있다. \n",
    "    - 첫번째, 단일 표본에서 알려진 평균과 샘플의 평균이 일치하는지 \n",
    "    - 두번째, 단일 표본에서 사건(or 실험) 전,후 쌍의 데이터가 있을 때, 평균이 일치하는지\n",
    "    - 세번째, 두 표본의 평균의 차이가 있는지\n",
    "        - 분산이 동일한 경우\n",
    "        - 분산이 동일하지 않는 경우"
   ]
  },
  {
   "cell_type": "markdown",
   "metadata": {},
   "source": [
    "## Content\n",
    "- 1. 단일 표본\n",
    "- 2. 단일 표본의 전,후 쌍의 데이터\n",
    "- 3. 두 표본 \n",
    "    - 3-1. 분산이 동일한 경우\n",
    "    - 3-2. 분산이 동일하지 않은 경우"
   ]
  },
  {
   "cell_type": "code",
   "execution_count": 1,
   "metadata": {},
   "outputs": [],
   "source": [
    "# library\n",
    "import pandas as pd\n",
    "import numpy as np\n",
    "from scipy import stats\n",
    "import matplotlib.pyplot as plt\n",
    "%matplotlib inline\n",
    "import seaborn as sns"
   ]
  },
  {
   "cell_type": "code",
   "execution_count": 2,
   "metadata": {},
   "outputs": [],
   "source": [
    "# data\n",
    "# 학생 정보 데이터 \n",
    "data = pd.read_csv('students.csv')"
   ]
  },
  {
   "cell_type": "code",
   "execution_count": 4,
   "metadata": {},
   "outputs": [
    {
     "data": {
      "text/html": [
       "<div>\n",
       "<style scoped>\n",
       "    .dataframe tbody tr th:only-of-type {\n",
       "        vertical-align: middle;\n",
       "    }\n",
       "\n",
       "    .dataframe tbody tr th {\n",
       "        vertical-align: top;\n",
       "    }\n",
       "\n",
       "    .dataframe thead th {\n",
       "        text-align: right;\n",
       "    }\n",
       "</style>\n",
       "<table border=\"1\" class=\"dataframe\">\n",
       "  <thead>\n",
       "    <tr style=\"text-align: right;\">\n",
       "      <th></th>\n",
       "      <th>stud.id</th>\n",
       "      <th>name</th>\n",
       "      <th>gender</th>\n",
       "      <th>age</th>\n",
       "      <th>height</th>\n",
       "      <th>weight</th>\n",
       "      <th>religion</th>\n",
       "      <th>nc.score</th>\n",
       "      <th>semester</th>\n",
       "      <th>major</th>\n",
       "      <th>minor</th>\n",
       "      <th>score1</th>\n",
       "      <th>score2</th>\n",
       "      <th>online.tutorial</th>\n",
       "      <th>graduated</th>\n",
       "      <th>salary</th>\n",
       "    </tr>\n",
       "  </thead>\n",
       "  <tbody>\n",
       "    <tr>\n",
       "      <th>0</th>\n",
       "      <td>833917</td>\n",
       "      <td>Gonzales, Christina</td>\n",
       "      <td>Female</td>\n",
       "      <td>19</td>\n",
       "      <td>160</td>\n",
       "      <td>64.8</td>\n",
       "      <td>Muslim</td>\n",
       "      <td>1.91</td>\n",
       "      <td>1st</td>\n",
       "      <td>Political Science</td>\n",
       "      <td>Social Sciences</td>\n",
       "      <td>NaN</td>\n",
       "      <td>NaN</td>\n",
       "      <td>0</td>\n",
       "      <td>0</td>\n",
       "      <td>NaN</td>\n",
       "    </tr>\n",
       "    <tr>\n",
       "      <th>1</th>\n",
       "      <td>898539</td>\n",
       "      <td>Lozano, T'Hani</td>\n",
       "      <td>Female</td>\n",
       "      <td>19</td>\n",
       "      <td>172</td>\n",
       "      <td>73.0</td>\n",
       "      <td>Other</td>\n",
       "      <td>1.56</td>\n",
       "      <td>2nd</td>\n",
       "      <td>Social Sciences</td>\n",
       "      <td>Mathematics and Statistics</td>\n",
       "      <td>NaN</td>\n",
       "      <td>NaN</td>\n",
       "      <td>0</td>\n",
       "      <td>0</td>\n",
       "      <td>NaN</td>\n",
       "    </tr>\n",
       "    <tr>\n",
       "      <th>2</th>\n",
       "      <td>379678</td>\n",
       "      <td>Williams, Hanh</td>\n",
       "      <td>Female</td>\n",
       "      <td>22</td>\n",
       "      <td>168</td>\n",
       "      <td>70.6</td>\n",
       "      <td>Protestant</td>\n",
       "      <td>1.24</td>\n",
       "      <td>3rd</td>\n",
       "      <td>Social Sciences</td>\n",
       "      <td>Mathematics and Statistics</td>\n",
       "      <td>45.0</td>\n",
       "      <td>46.0</td>\n",
       "      <td>0</td>\n",
       "      <td>0</td>\n",
       "      <td>NaN</td>\n",
       "    </tr>\n",
       "  </tbody>\n",
       "</table>\n",
       "</div>"
      ],
      "text/plain": [
       "   stud.id                 name  gender  age  height  weight    religion  \\\n",
       "0   833917  Gonzales, Christina  Female   19     160    64.8      Muslim   \n",
       "1   898539       Lozano, T'Hani  Female   19     172    73.0       Other   \n",
       "2   379678       Williams, Hanh  Female   22     168    70.6  Protestant   \n",
       "\n",
       "   nc.score semester              major                       minor  score1  \\\n",
       "0      1.91      1st  Political Science             Social Sciences     NaN   \n",
       "1      1.56      2nd    Social Sciences  Mathematics and Statistics     NaN   \n",
       "2      1.24      3rd    Social Sciences  Mathematics and Statistics    45.0   \n",
       "\n",
       "   score2  online.tutorial  graduated  salary  \n",
       "0     NaN                0          0     NaN  \n",
       "1     NaN                0          0     NaN  \n",
       "2    46.0                0          0     NaN  "
      ]
     },
     "execution_count": 4,
     "metadata": {},
     "output_type": "execute_result"
    }
   ],
   "source": [
    "data.head(3)"
   ]
  },
  {
   "cell_type": "markdown",
   "metadata": {},
   "source": [
    "# 1. 단일표본\n",
    "- 문제 : 학생의 몸무게는 70kg으로 알려져 있다. 9명의 학생을 뽑은 데이터가 있고 유의수준 0.05로 t검정으로 양측 검정하라.\n",
    "\n",
    "- 가설 \n",
    "    - H0: 학생의 평균 몸무게는 알려진 70kg과 차이가 없다.\n",
    "    - H1: 학생의 평균 몸무게는 알려진 70kg과 차이가 있다. "
   ]
  },
  {
   "cell_type": "code",
   "execution_count": 6,
   "metadata": {},
   "outputs": [],
   "source": [
    "# 모평균\n",
    "mu = 70\n",
    "# 유의수준\n",
    "alpha = 0.05 \n",
    "# 표본의 수 \n",
    "n = 9"
   ]
  },
  {
   "cell_type": "code",
   "execution_count": 7,
   "metadata": {},
   "outputs": [],
   "source": [
    "# 샘플\n",
    "np.random.seed(7)\n",
    "sample_data = data['weight'].sample(n)"
   ]
  },
  {
   "cell_type": "code",
   "execution_count": 30,
   "metadata": {},
   "outputs": [
    {
     "name": "stdout",
     "output_type": "stream",
     "text": [
      "표본의 평균 : 74.70 kg\n",
      "t통계량 : 1.19\n"
     ]
    }
   ],
   "source": [
    "## 표본의 통계량 \n",
    "# 표본의 평균\n",
    "x_bar = np.mean(sample_data)\n",
    "print('표본의 평균 : {:.2f} kg'.format(x_bar))\n",
    "# 표본의 표분편차\n",
    "s = np.std(sample_data, ddof=1)\n",
    "# t 통계량 \n",
    "t = (x_bar - mu) / (s/np.sqrt(n))\n",
    "print('t통계량 : {0:.2f}'.format(t))"
   ]
  },
  {
   "cell_type": "code",
   "execution_count": 25,
   "metadata": {},
   "outputs": [
    {
     "data": {
      "text/plain": [
       "0.1345731072876939"
      ]
     },
     "execution_count": 25,
     "metadata": {},
     "output_type": "execute_result"
    }
   ],
   "source": [
    "## 극단의 확율 : 극단의 확율은 양측 검정인 경우 2배 하고, 유의 수준과 비교해야한다. \n",
    "# 자유도\n",
    "DF = n-1\n",
    "# t분포는 자유도에 따라 분포가 달라진다. \n",
    "1-stats.t(DF).cdf(t)"
   ]
  },
  {
   "cell_type": "code",
   "execution_count": 31,
   "metadata": {},
   "outputs": [
    {
     "name": "stdout",
     "output_type": "stream",
     "text": [
      "모평균의 신뢰구간은 65.57부터 83.83까지 이다.\n"
     ]
    }
   ],
   "source": [
    "## 95% 신뢰구간 \n",
    "lower_bound = x_bar + stats.t(DF).ppf(0.025)*(s/np.sqrt(n))\n",
    "upper_bound = x_bar + stats.t(DF).ppf(0.975)*(s/np.sqrt(n))\n",
    "\n",
    "print('모평균의 신뢰구간은 {0:.2f}부터 {1:.2f}까지 이다.'.format(lower_bound, upper_bound))"
   ]
  },
  {
   "cell_type": "code",
   "execution_count": 21,
   "metadata": {},
   "outputs": [
    {
     "data": {
      "text/plain": [
       "Ttest_1sampResult(statistic=1.1873500024696864, pvalue=0.2691462145753879)"
      ]
     },
     "execution_count": 21,
     "metadata": {},
     "output_type": "execute_result"
    }
   ],
   "source": [
    "# stats 활용한 p-value approach\n",
    "stats.ttest_1samp(sample_data, mu, alternative='two-sided')"
   ]
  },
  {
   "cell_type": "markdown",
   "metadata": {},
   "source": [
    "## 해석 \n",
    "- 1. 표본의 통계량 : 통계량 1.19로 1.96보다 작기 때문에 귀무가설을 채택한다. 알려진 몸무게 70kg과 차이가 없다. \n",
    "- 2. p-value : 양극단의 확율은 0.269로 유의수준 0.05보다 크기 때문에 귀무가설을 채택한다. 알려진 몸무게 70kg과 차이가 없다.\n",
    "- 3. 신뢰구간 : 모평균의 신뢰구간은 65.57부터 83.83으로 표본의 평균 70은 모평균의 신뢰구간안에 존재하므로 알려진 몸무게 70kg과 차이가 없다."
   ]
  },
  {
   "cell_type": "markdown",
   "metadata": {},
   "source": [
    "# 2. 단일표본의 전, 후 쌍의 데이터"
   ]
  },
  {
   "cell_type": "markdown",
   "metadata": {},
   "source": [
    "- 문제 : 동일한 표본의 실험 전/후의 평균의 차이가 있는가\n",
    "- 가설 \n",
    "    - H0 : before 와 after의 평균의 차이가 0과 차이가 없다. \n",
    "    - H1 : before 와 after의 평균의 차이가 0과 차이가 있다."
   ]
  },
  {
   "cell_type": "code",
   "execution_count": 16,
   "metadata": {},
   "outputs": [
    {
     "data": {
      "text/html": [
       "<div>\n",
       "<style scoped>\n",
       "    .dataframe tbody tr th:only-of-type {\n",
       "        vertical-align: middle;\n",
       "    }\n",
       "\n",
       "    .dataframe tbody tr th {\n",
       "        vertical-align: top;\n",
       "    }\n",
       "\n",
       "    .dataframe thead th {\n",
       "        text-align: right;\n",
       "    }\n",
       "</style>\n",
       "<table border=\"1\" class=\"dataframe\">\n",
       "  <thead>\n",
       "    <tr style=\"text-align: right;\">\n",
       "      <th></th>\n",
       "      <th>before</th>\n",
       "      <th>after</th>\n",
       "    </tr>\n",
       "  </thead>\n",
       "  <tbody>\n",
       "    <tr>\n",
       "      <th>0</th>\n",
       "      <td>0.430</td>\n",
       "      <td>0.415</td>\n",
       "    </tr>\n",
       "    <tr>\n",
       "      <th>1</th>\n",
       "      <td>0.266</td>\n",
       "      <td>0.238</td>\n",
       "    </tr>\n",
       "    <tr>\n",
       "      <th>2</th>\n",
       "      <td>0.567</td>\n",
       "      <td>0.390</td>\n",
       "    </tr>\n",
       "    <tr>\n",
       "      <th>3</th>\n",
       "      <td>0.531</td>\n",
       "      <td>0.410</td>\n",
       "    </tr>\n",
       "    <tr>\n",
       "      <th>4</th>\n",
       "      <td>0.707</td>\n",
       "      <td>0.605</td>\n",
       "    </tr>\n",
       "  </tbody>\n",
       "</table>\n",
       "</div>"
      ],
      "text/plain": [
       "   before  after\n",
       "0   0.430  0.415\n",
       "1   0.266  0.238\n",
       "2   0.567  0.390\n",
       "3   0.531  0.410\n",
       "4   0.707  0.605"
      ]
     },
     "execution_count": 16,
     "metadata": {},
     "output_type": "execute_result"
    }
   ],
   "source": [
    "# data\n",
    "before = [0.430,0.266,0.567,0.531,0.707,0.716,0.651,0.589,0.469,0.723]\n",
    "after = [0.415,0.238,0.390,0.410,0.605,0.609,0.632,0.523,0.411,0.612]\n",
    "\n",
    "data2 = pd.DataFrame(columns=['before','after'])\n",
    "\n",
    "data2['before'] = before\n",
    "data2['after'] = after\n",
    "\n",
    "data2.head()"
   ]
  },
  {
   "cell_type": "code",
   "execution_count": 17,
   "metadata": {},
   "outputs": [],
   "source": [
    "data2['diff'] = data2['before'] - data2['after']"
   ]
  },
  {
   "cell_type": "code",
   "execution_count": 20,
   "metadata": {},
   "outputs": [
    {
     "name": "stdout",
     "output_type": "stream",
     "text": [
      "t통계량 : 4.86\n"
     ]
    }
   ],
   "source": [
    "# 모평균\n",
    "mu = 0 \n",
    "# 표본의 평균 \n",
    "x_bar = data2['diff'].mean()\n",
    "# 표본의 표준편차\n",
    "s = np.std(data2['diff'], ddof=1)\n",
    "# 표본의 수\n",
    "n= len(data2)\n",
    "# 자유도\n",
    "DF = n-1\n",
    "# t 통계량 \n",
    "t = (x_bar - mu) / (s/np.sqrt(n))\n",
    "print('t통계량 : {0:.2f}'.format(t))"
   ]
  },
  {
   "cell_type": "code",
   "execution_count": 23,
   "metadata": {},
   "outputs": [
    {
     "data": {
      "text/plain": [
       "0.000891115457822611"
      ]
     },
     "execution_count": 23,
     "metadata": {},
     "output_type": "execute_result"
    }
   ],
   "source": [
    "# p-value , 양측검정 \n",
    "# 극단의 확율의 두배 \n",
    "2*(1-stats.t(DF).cdf(t))"
   ]
  },
  {
   "cell_type": "code",
   "execution_count": 24,
   "metadata": {},
   "outputs": [
    {
     "name": "stdout",
     "output_type": "stream",
     "text": [
      "모평균의 신뢰구간은 0.04부터 0.12까지 이다.\n"
     ]
    }
   ],
   "source": [
    "## 95% 신뢰구간 \n",
    "lower_bound = x_bar + stats.t(DF).ppf(0.025)*(s/np.sqrt(n))\n",
    "upper_bound = x_bar + stats.t(DF).ppf(0.975)*(s/np.sqrt(n))\n",
    "\n",
    "print('모평균의 신뢰구간은 {0:.2f}부터 {1:.2f}까지 이다.'.format(lower_bound, upper_bound))"
   ]
  },
  {
   "cell_type": "code",
   "execution_count": 19,
   "metadata": {},
   "outputs": [
    {
     "data": {
      "text/plain": [
       "Ttest_relResult(statistic=4.863812745135183, pvalue=0.0008911154578225479)"
      ]
     },
     "execution_count": 19,
     "metadata": {},
     "output_type": "execute_result"
    }
   ],
   "source": [
    "# stats를 활용한 paired t-test , p-value approach\n",
    "stats.ttest_rel(data2['before'], data2['after'], alternative='two-sided')"
   ]
  },
  {
   "cell_type": "markdown",
   "metadata": {},
   "source": [
    "## 해석"
   ]
  },
  {
   "cell_type": "markdown",
   "metadata": {},
   "source": [
    "- 1. 표본의 통계량 : 통계량은 4.86으로 1.96보다 크기 때문에, 귀무가설을 기각한다. 따라서 before와 after의 평균의 차이가 0이 아니다. \n",
    "- 2. p-value : p-value는 0.00089로 유의수준 0.05보다 작기 때문에, 귀무가설을 기각한다. 따라서 before와 after의 평균의 차이가 0이 아니다.\n",
    "    - stats 모듈의 ttest_rel로 paired 데이터의 차이를 바로 검정할 수 있고, 통계량과 p-value가 계산되는 것을 확인할 수 있다. \n",
    "- 3. 신뢰구간 : 모평균의 신뢰구간은 0.04 부터 0.12까지로 0은 신뢰구간의 범위 밖에 있다. 따라서 before와 after의 평균의 차이가 0이 아니다. "
   ]
  },
  {
   "cell_type": "markdown",
   "metadata": {},
   "source": [
    "## 계속.."
   ]
  },
  {
   "cell_type": "code",
   "execution_count": null,
   "metadata": {},
   "outputs": [],
   "source": []
  }
 ],
 "metadata": {
  "kernelspec": {
   "display_name": "Python 3",
   "language": "python",
   "name": "python3"
  },
  "language_info": {
   "codemirror_mode": {
    "name": "ipython",
    "version": 3
   },
   "file_extension": ".py",
   "mimetype": "text/x-python",
   "name": "python",
   "nbconvert_exporter": "python",
   "pygments_lexer": "ipython3",
   "version": "3.8.3"
  }
 },
 "nbformat": 4,
 "nbformat_minor": 4
}
